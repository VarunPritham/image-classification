{
 "cells": [
  {
   "cell_type": "markdown",
   "metadata": {
    "collapsed": true
   },
   "source": [
    "# Image Classification\n",
    "In this project, you'll classify images from the [CIFAR-10 dataset](https://www.cs.toronto.edu/~kriz/cifar.html).  The dataset consists of airplanes, dogs, cats, and other objects. You'll preprocess the images, then train a convolutional neural network on all the samples. The images need to be normalized and the labels need to be one-hot encoded.  You'll get to apply what you learned and build a convolutional, max pooling, dropout, and fully connected layers.  At the end, you'll get to see your neural network's predictions on the sample images.\n",
    "## Get the Data\n",
    "Run the following cell to download the [CIFAR-10 dataset for python](https://www.cs.toronto.edu/~kriz/cifar-10-python.tar.gz)."
   ]
  },
  {
   "cell_type": "code",
   "execution_count": 1,
   "metadata": {},
   "outputs": [
    {
     "name": "stderr",
     "output_type": "stream",
     "text": [
      "CIFAR-10 Dataset: 171MB [00:24, 6.83MB/s]                              \n"
     ]
    },
    {
     "name": "stdout",
     "output_type": "stream",
     "text": [
      "All files found!\n"
     ]
    }
   ],
   "source": [
    "\"\"\"\n",
    "DON'T MODIFY ANYTHING IN THIS CELL THAT IS BELOW THIS LINE\n",
    "\"\"\"\n",
    "from urllib.request import urlretrieve\n",
    "from os.path import isfile, isdir\n",
    "from tqdm import tqdm\n",
    "import problem_unittests as tests\n",
    "import tarfile\n",
    "\n",
    "cifar10_dataset_folder_path = 'cifar-10-batches-py'\n",
    "\n",
    "# Use Floyd's cifar-10 dataset if present\n",
    "floyd_cifar10_location = '/input/cifar-10/python.tar.gz'\n",
    "if isfile(floyd_cifar10_location):\n",
    "    tar_gz_path = floyd_cifar10_location\n",
    "else:\n",
    "    tar_gz_path = 'cifar-10-python.tar.gz'\n",
    "\n",
    "class DLProgress(tqdm):\n",
    "    last_block = 0\n",
    "\n",
    "    def hook(self, block_num=1, block_size=1, total_size=None):\n",
    "        self.total = total_size\n",
    "        self.update((block_num - self.last_block) * block_size)\n",
    "        self.last_block = block_num\n",
    "\n",
    "if not isfile(tar_gz_path):\n",
    "    with DLProgress(unit='B', unit_scale=True, miniters=1, desc='CIFAR-10 Dataset') as pbar:\n",
    "        urlretrieve(\n",
    "            'https://www.cs.toronto.edu/~kriz/cifar-10-python.tar.gz',\n",
    "            tar_gz_path,\n",
    "            pbar.hook)\n",
    "\n",
    "if not isdir(cifar10_dataset_folder_path):\n",
    "    with tarfile.open(tar_gz_path) as tar:\n",
    "        tar.extractall()\n",
    "        tar.close()\n",
    "\n",
    "\n",
    "tests.test_folder_path(cifar10_dataset_folder_path)"
   ]
  },
  {
   "cell_type": "markdown",
   "metadata": {},
   "source": [
    "## Explore the Data\n",
    "The dataset is broken into batches to prevent your machine from running out of memory.  The CIFAR-10 dataset consists of 5 batches, named `data_batch_1`, `data_batch_2`, etc.. Each batch contains the labels and images that are one of the following:\n",
    "* airplane\n",
    "* automobile\n",
    "* bird\n",
    "* cat\n",
    "* deer\n",
    "* dog\n",
    "* frog\n",
    "* horse\n",
    "* ship\n",
    "* truck\n",
    "\n",
    "Understanding a dataset is part of making predictions on the data.  Play around with the code cell below by changing the `batch_id` and `sample_id`. The `batch_id` is the id for a batch (1-5). The `sample_id` is the id for a image and label pair in the batch.\n",
    "\n",
    "Ask yourself \"What are all possible labels?\", \"What is the range of values for the image data?\", \"Are the labels in order or random?\".  Answers to questions like these will help you preprocess the data and end up with better predictions."
   ]
  },
  {
   "cell_type": "code",
   "execution_count": 2,
   "metadata": {},
   "outputs": [
    {
     "name": "stdout",
     "output_type": "stream",
     "text": [
      "\n",
      "Stats of batch 1:\n",
      "Samples: 10000\n",
      "Label Counts: {0: 1005, 1: 974, 2: 1032, 3: 1016, 4: 999, 5: 937, 6: 1030, 7: 1001, 8: 1025, 9: 981}\n",
      "First 20 Labels: [6, 9, 9, 4, 1, 1, 2, 7, 8, 3, 4, 7, 7, 2, 9, 9, 9, 3, 2, 6]\n",
      "\n",
      "Example of Image 5:\n",
      "Image - Min Value: 0 Max Value: 252\n",
      "Image - Shape: (32, 32, 3)\n",
      "Label - Label Id: 1 Name: automobile\n"
     ]
    },
    {
     "data": {
      "image/png": "[encoded data removed]",
      "text/plain": [
       "<matplotlib.figure.Figure at 0x7fcfdd686c18>"
      ]
     },
     "metadata": {
      "image/png": {
       "height": 250,
       "width": 253
      }
     },
     "output_type": "display_data"
    }
   ],
   "source": [
    "%matplotlib inline\n",
    "%config InlineBackend.figure_format = 'retina'\n",
    "\n",
    "import helper\n",
    "import numpy as np\n",
    "\n",
    "# Explore the dataset\n",
    "batch_id = 1\n",
    "sample_id = 5\n",
    "helper.display_stats(cifar10_dataset_folder_path, batch_id, sample_id)"
   ]
  },
  {
   "cell_type": "markdown",
   "metadata": {},
   "source": [
    "## Implement Preprocess Functions\n",
    "### Normalize\n",
    "In the cell below, implement the `normalize` function to take in image data, `x`, and return it as a normalized Numpy array. The values should be in the range of 0 to 1, inclusive.  The return object should be the same shape as `x`."
   ]
  },
  {
   "cell_type": "code",
   "execution_count": 75,
   "metadata": {},
   "outputs": [
    {
     "name": "stdout",
     "output_type": "stream",
     "text": [
      "Tests Passed\n"
     ]
    }
   ],
   "source": [
    "def normalize(x):\n",
    "    \"\"\"\n",
    "    Normalize a list of sample image data in the range of 0 to 1\n",
    "    : x: List of image data.  The image shape is (32, 32, 3)\n",
    "    : return: Numpy array of normalize data\n",
    "    \"\"\"\n",
    "    # TODO: Implement Function\n",
    "    min_p=0\n",
    "    max_p=255\n",
    "    a=0\n",
    "    b=0\n",
    "    #x=(x-min_p)*(a-b)/(min_p-max_p)\n",
    "    return (x - np.min(x)) / (np.max(x) - np.min(x))\n",
    "\n",
    "\n",
    "\"\"\"\n",
    "DON'T MODIFY ANYTHING IN THIS CELL THAT IS BELOW THIS LINE\n",
    "\"\"\"\n",
    "tests.test_normalize(normalize)"
   ]
  },
  {
   "cell_type": "markdown",
   "metadata": {},
   "source": [
    "### One-hot encode\n",
    "Just like the previous code cell, you'll be implementing a function for preprocessing.  This time, you'll implement the `one_hot_encode` function. The input, `x`, are a list of labels.  Implement the function to return the list of labels as One-Hot encoded Numpy array.  The possible values for labels are 0 to 9. The one-hot encoding function should return the same encoding for each value between each call to `one_hot_encode`.  Make sure to save the map of encodings outside the function.\n",
    "\n",
    "Hint: Don't reinvent the wheel."
   ]
  },
  {
   "cell_type": "code",
   "execution_count": 76,
   "metadata": {},
   "outputs": [
    {
     "name": "stdout",
     "output_type": "stream",
     "text": [
      "Tests Passed\n"
     ]
    }
   ],
   "source": [
    "def one_hot_encode(x):\n",
    "    \"\"\"\n",
    "    One hot encode a list of sample labels. Return a one-hot encoded vector for each label.\n",
    "    : x: List of sample Labels\n",
    "    : return: Numpy array of one-hot encoded labels\n",
    "    \"\"\"\n",
    "    # TODO: Implement Function\n",
    "    from sklearn import preprocessing\n",
    "    lb=preprocessing.LabelBinarizer()\n",
    "    lb.fit(np.array([0,1,2,3,4,5,6,7,8,9]))\n",
    "    return lb.transform(x)\n",
    "\n",
    "\n",
    "\"\"\"\n",
    "DON'T MODIFY ANYTHING IN THIS CELL THAT IS BELOW THIS LINE\n",
    "\"\"\"\n",
    "tests.test_one_hot_encode(one_hot_encode)"
   ]
  },
  {
   "cell_type": "markdown",
   "metadata": {},
   "source": [
    "### Randomize Data\n",
    "As you saw from exploring the data above, the order of the samples are randomized.  It doesn't hurt to randomize it again, but you don't need to for this dataset."
   ]
  },
  {
   "cell_type": "markdown",
   "metadata": {},
   "source": [
    "## Preprocess all the data and save it\n",
    "Running the code cell below will preprocess all the CIFAR-10 data and save it to file. The code below also uses 10% of the training data for validation."
   ]
  },
  {
   "cell_type": "code",
   "execution_count": 77,
   "metadata": {
    "collapsed": true
   },
   "outputs": [],
   "source": [
    "\"\"\"\n",
    "DON'T MODIFY ANYTHING IN THIS CELL\n",
    "\"\"\"\n",
    "# Preprocess Training, Validation, and Testing Data\n",
    "helper.preprocess_and_save_data(cifar10_dataset_folder_path, normalize, one_hot_encode)"
   ]
  },
  {
   "cell_type": "markdown",
   "metadata": {},
   "source": [
    "# Check Point\n",
    "This is your first checkpoint.  If you ever decide to come back to this notebook or have to restart the notebook, you can start from here.  The preprocessed data has been saved to disk."
   ]
  },
  {
   "cell_type": "code",
   "execution_count": 78,
   "metadata": {
    "collapsed": true
   },
   "outputs": [],
   "source": [
    "\"\"\"\n",
    "DON'T MODIFY ANYTHING IN THIS CELL\n",
    "\"\"\"\n",
    "import pickle\n",
    "import problem_unittests as tests\n",
    "import helper\n",
    "\n",
    "# Load the Preprocessed Validation data\n",
    "valid_features, valid_labels = pickle.load(open('preprocess_validation.p', mode='rb'))"
   ]
  },
  {
   "cell_type": "markdown",
   "metadata": {},
   "source": [
    "## Build the network\n",
    "For the neural network, you'll build each layer into a function.  Most of the code you've seen has been outside of functions. To test your code more thoroughly, we require that you put each layer in a function.  This allows us to give you better feedback and test for simple mistakes using our unittests before you submit your project.\n",
    "\n",
    ">**Note:** If you're finding it hard to dedicate enough time for this course each week, we've provided a small shortcut to this part of the project. In the next couple of problems, you'll have the option to use classes from the [TensorFlow Layers](https://www.tensorflow.org/api_docs/python/tf/layers) or [TensorFlow Layers (contrib)](https://www.tensorflow.org/api_guides/python/contrib.layers) packages to build each layer, except the layers you build in the \"Convolutional and Max Pooling Layer\" section.  TF Layers is similar to Keras's and TFLearn's abstraction to layers, so it's easy to pickup.\n",
    "\n",
    ">However, if you would like to get the most out of this course, try to solve all the problems _without_ using anything from the TF Layers packages. You **can** still use classes from other packages that happen to have the same name as ones you find in TF Layers! For example, instead of using the TF Layers version of the `conv2d` class, [tf.layers.conv2d](https://www.tensorflow.org/api_docs/python/tf/layers/conv2d), you would want to use the TF Neural Network version of `conv2d`, [tf.nn.conv2d](https://www.tensorflow.org/api_docs/python/tf/nn/conv2d). \n",
    "\n",
    "Let's begin!\n",
    "\n",
    "### Input\n",
    "The neural network needs to read the image data, one-hot encoded labels, and dropout keep probability. Implement the following functions\n",
    "* Implement `neural_net_image_input`\n",
    " * Return a [TF Placeholder](https://www.tensorflow.org/api_docs/python/tf/placeholder)\n",
    " * Set the shape using `image_shape` with batch size set to `None`.\n",
    " * Name the TensorFlow placeholder \"x\" using the TensorFlow `name` parameter in the [TF Placeholder](https://www.tensorflow.org/api_docs/python/tf/placeholder).\n",
    "* Implement `neural_net_label_input`\n",
    " * Return a [TF Placeholder](https://www.tensorflow.org/api_docs/python/tf/placeholder)\n",
    " * Set the shape using `n_classes` with batch size set to `None`.\n",
    " * Name the TensorFlow placeholder \"y\" using the TensorFlow `name` parameter in the [TF Placeholder](https://www.tensorflow.org/api_docs/python/tf/placeholder).\n",
    "* Implement `neural_net_keep_prob_input`\n",
    " * Return a [TF Placeholder](https://www.tensorflow.org/api_docs/python/tf/placeholder) for dropout keep probability.\n",
    " * Name the TensorFlow placeholder \"keep_prob\" using the TensorFlow `name` parameter in the [TF Placeholder](https://www.tensorflow.org/api_docs/python/tf/placeholder).\n",
    "\n",
    "These names will be used at the end of the project to load your saved model.\n",
    "\n",
    "Note: `None` for shapes in TensorFlow allow for a dynamic size."
   ]
  },
  {
   "cell_type": "code",
   "execution_count": 79,
   "metadata": {},
   "outputs": [
    {
     "name": "stdout",
     "output_type": "stream",
     "text": [
      "Image Input Tests Passed.\n",
      "Label Input Tests Passed.\n",
      "Keep Prob Tests Passed.\n"
     ]
    }
   ],
   "source": [
    "import tensorflow as tf\n",
    "\n",
    "def neural_net_image_input(image_shape):\n",
    "    \"\"\"\n",
    "    Return a Tensor for a batch of image input\n",
    "    : image_shape: Shape of the images\n",
    "    : return: Tensor for image input.\n",
    "    \"\"\"\n",
    "    # TODO: Implement Function\n",
    "    x=tf.placeholder(tf.float32,[None,*image_shape],name='x')\n",
    "    return x\n",
    "\n",
    "\n",
    "def neural_net_label_input(n_classes):\n",
    "    \"\"\"\n",
    "    Return a Tensor for a batch of label input\n",
    "    : n_classes: Number of classes\n",
    "    : return: Tensor for label input.\n",
    "    \"\"\"\n",
    "    # TODO: Implement Function\n",
    "    y=tf.placeholder(tf.float32,[None,n_classes],name='y')\n",
    "    return y\n",
    "\n",
    "\n",
    "def neural_net_keep_prob_input():\n",
    "    \"\"\"\n",
    "    Return a Tensor for keep probability\n",
    "    : return: Tensor for keep probability.\n",
    "    \"\"\"\n",
    "    # TODO: Implement Function\n",
    "    keep_prob=tf.placeholder(tf.float32,name='keep_prob')\n",
    "    return keep_prob\n",
    "\n",
    "\n",
    "\"\"\"\n",
    "DON'T MODIFY ANYTHING IN THIS CELL THAT IS BELOW THIS LINE\n",
    "\"\"\"\n",
    "tf.reset_default_graph()\n",
    "tests.test_nn_image_inputs(neural_net_image_input)\n",
    "tests.test_nn_label_inputs(neural_net_label_input)\n",
    "tests.test_nn_keep_prob_inputs(neural_net_keep_prob_input)"
   ]
  },
  {
   "cell_type": "markdown",
   "metadata": {},
   "source": [
    "### Convolution and Max Pooling Layer\n",
    "Convolution layers have a lot of success with images. For this code cell, you should implement the function `conv2d_maxpool` to apply convolution then max pooling:\n",
    "* Create the weight and bias using `conv_ksize`, `conv_num_outputs` and the shape of `x_tensor`.\n",
    "* Apply a convolution to `x_tensor` using weight and `conv_strides`.\n",
    " * We recommend you use same padding, but you're welcome to use any padding.\n",
    "* Add bias\n",
    "* Add a nonlinear activation to the convolution.\n",
    "* Apply Max Pooling using `pool_ksize` and `pool_strides`.\n",
    " * We recommend you use same padding, but you're welcome to use any padding.\n",
    "\n",
    "**Note:** You **can't** use [TensorFlow Layers](https://www.tensorflow.org/api_docs/python/tf/layers) or [TensorFlow Layers (contrib)](https://www.tensorflow.org/api_guides/python/contrib.layers) for **this** layer, but you can still use TensorFlow's [Neural Network](https://www.tensorflow.org/api_docs/python/tf/nn) package. You may still use the shortcut option for all the **other** layers."
   ]
  },
  {
   "cell_type": "code",
   "execution_count": 80,
   "metadata": {},
   "outputs": [
    {
     "name": "stdout",
     "output_type": "stream",
     "text": [
      "Tests Passed\n"
     ]
    }
   ],
   "source": [
    "def conv2d_maxpool(x_tensor, conv_num_outputs, conv_ksize, conv_strides, pool_ksize, pool_strides):\n",
    "    \"\"\"\n",
    "    Apply convolution then max pooling to x_tensor\n",
    "    :param x_tensor: TensorFlow Tensor\n",
    "    :param conv_num_outputs: Number of outputs for the convolutional layer\n",
    "    :param conv_ksize: kernal size 2-D Tuple for the convolutional layer\n",
    "    :param conv_strides: Stride 2-D Tuple for convolution\n",
    "    :param pool_ksize: kernal size 2-D Tuple for pool\n",
    "    :param pool_strides: Stride 2-D Tuple for pool\n",
    "    : return: A tensor that represents convolution and max pooling of x_tensor\n",
    "    \"\"\"\n",
    "    # TODO: Implement Function\n",
    "    d=x_tensor.get_shape().as_list()[3]\n",
    "    \n",
    "    weights = tf.Variable(tf.truncated_normal([conv_ksize[0],conv_ksize[1],d,conv_num_outputs],stddev=0.05))\n",
    "    \n",
    "    biases = tf.Variable(tf.truncated_normal([conv_num_outputs]))\n",
    "    x_tensor = tf.nn.conv2d(x_tensor,\n",
    "                            weights,\n",
    "                            strides=[1,conv_strides[0],conv_strides[1],1],\n",
    "                            padding='SAME')\n",
    "    \n",
    "    x_tensor = tf.nn.bias_add(x_tensor,biases)\n",
    "    x_tensor=tf.nn.relu(x_tensor)\n",
    "    x_tensor=tf.nn.max_pool(x_tensor,\n",
    "                            ksize=[1,pool_ksize[0],pool_ksize[1],1],\n",
    "                            strides=[1,pool_strides[0],pool_strides[1],1],\n",
    "                            padding='SAME')\n",
    "    \n",
    "    return x_tensor\n",
    "\n",
    "\n",
    "\"\"\"\n",
    "DON'T MODIFY ANYTHING IN THIS CELL THAT IS BELOW THIS LINE\n",
    "\"\"\"\n",
    "tests.test_con_pool(conv2d_maxpool)"
   ]
  },
  {
   "cell_type": "markdown",
   "metadata": {},
   "source": [
    "### Flatten Layer\n",
    "Implement the `flatten` function to change the dimension of `x_tensor` from a 4-D tensor to a 2-D tensor.  The output should be the shape (*Batch Size*, *Flattened Image Size*). Shortcut option: you can use classes from the [TensorFlow Layers](https://www.tensorflow.org/api_docs/python/tf/layers) or [TensorFlow Layers (contrib)](https://www.tensorflow.org/api_guides/python/contrib.layers) packages for this layer. For more of a challenge, only use other TensorFlow packages."
   ]
  },
  {
   "cell_type": "code",
   "execution_count": 81,
   "metadata": {},
   "outputs": [
    {
     "name": "stdout",
     "output_type": "stream",
     "text": [
      "Tests Passed\n"
     ]
    }
   ],
   "source": [
    "def flatten(x_tensor):\n",
    "    \"\"\"\n",
    "    Flatten x_tensor to (Batch Size, Flattened Image Size)\n",
    "    : x_tensor: A tensor of size (Batch Size, ...), where ... are the image dimensions.\n",
    "    : return: A tensor of size (Batch Size, Flattened Image Size).\n",
    "    \"\"\"\n",
    "    # TODO: Implement Function\n",
    "    #shape=x_tensor.get_shape()\n",
    "    #features=shape[1:4].num_elements()\n",
    "    #x_tensor=tf.reshape(x_tensor,[-1,features])\n",
    "    #return x_tensor\n",
    "    return tf.contrib.layers.flatten(x_tensor)\n",
    "\n",
    "\n",
    "\"\"\"\n",
    "DON'T MODIFY ANYTHING IN THIS CELL THAT IS BELOW THIS LINE\n",
    "\"\"\"\n",
    "tests.test_flatten(flatten)"
   ]
  },
  {
   "cell_type": "markdown",
   "metadata": {},
   "source": [
    "### Fully-Connected Layer\n",
    "Implement the `fully_conn` function to apply a fully connected layer to `x_tensor` with the shape (*Batch Size*, *num_outputs*). Shortcut option: you can use classes from the [TensorFlow Layers](https://www.tensorflow.org/api_docs/python/tf/layers) or [TensorFlow Layers (contrib)](https://www.tensorflow.org/api_guides/python/contrib.layers) packages for this layer. For more of a challenge, only use other TensorFlow packages."
   ]
  },
  {
   "cell_type": "code",
   "execution_count": 103,
   "metadata": {},
   "outputs": [
    {
     "name": "stdout",
     "output_type": "stream",
     "text": [
      "Tests Passed\n"
     ]
    }
   ],
   "source": [
    "def fully_conn(x_tensor, num_outputs):\n",
    "    \"\"\"\n",
    "    Apply a fully connected layer to x_tensor using weight and bias\n",
    "    : x_tensor: A 2-D tensor where the first dimension is batch size.\n",
    "    : num_outputs: The number of output that the new tensor should be.\n",
    "    : return: A 2-D tensor where the second dimension is num_outputs.\n",
    "    \"\"\"\n",
    "    # TODO: Implement Function\n",
    "    features=x_tensor.get_shape().as_list()[1]\n",
    "    weights=tf.Variable(tf.truncated_normal([features,num_outputs],stddev=0.05))\n",
    "    biases=tf.Variable(tf.truncated_normal([num_outputs]))\n",
    "    x_tensor=tf.add(tf.matmul(x_tensor,weights),biases)\n",
    "    x_tensor=tf.nn.relu(x_tensor)\n",
    "    return x_tensor\n",
    "\n",
    "\n",
    "\"\"\"\n",
    "DON'T MODIFY ANYTHING IN THIS CELL THAT IS BELOW THIS LINE\n",
    "\"\"\"\n",
    "tests.test_fully_conn(fully_conn)"
   ]
  },
  {
   "cell_type": "markdown",
   "metadata": {},
   "source": [
    "### Output Layer\n",
    "Implement the `output` function to apply a fully connected layer to `x_tensor` with the shape (*Batch Size*, *num_outputs*). Shortcut option: you can use classes from the [TensorFlow Layers](https://www.tensorflow.org/api_docs/python/tf/layers) or [TensorFlow Layers (contrib)](https://www.tensorflow.org/api_guides/python/contrib.layers) packages for this layer. For more of a challenge, only use other TensorFlow packages.\n",
    "\n",
    "**Note:** Activation, softmax, or cross entropy should **not** be applied to this."
   ]
  },
  {
   "cell_type": "code",
   "execution_count": 104,
   "metadata": {},
   "outputs": [
    {
     "name": "stdout",
     "output_type": "stream",
     "text": [
      "Tests Passed\n"
     ]
    }
   ],
   "source": [
    "def output(x_tensor, num_outputs):\n",
    "    \"\"\"\n",
    "    Apply a output layer to x_tensor using weight and bias\n",
    "    : x_tensor: A 2-D tensor where the first dimension is batch size.\n",
    "    : num_outputs: The number of output that the new tensor should be.\n",
    "    : return: A 2-D tensor where the second dimension is num_outputs.\n",
    "    \"\"\"\n",
    "    # TODO: Implement Function\n",
    "    features=x_tensor.get_shape().as_list()[1]\n",
    "    weights=tf.Variable(tf.truncated_normal([features,num_outputs],stddev=0.05))\n",
    "    biases=tf.Variable(tf.truncated_normal([num_outputs]))\n",
    "    x_tensor=tf.add(tf.matmul(x_tensor,weights),biases)\n",
    "    return x_tensor\n",
    "\n",
    "\n",
    "\"\"\"\n",
    "DON'T MODIFY ANYTHING IN THIS CELL THAT IS BELOW THIS LINE\n",
    "\"\"\"\n",
    "tests.test_output(output)"
   ]
  },
  {
   "cell_type": "markdown",
   "metadata": {},
   "source": [
    "### Create Convolutional Model\n",
    "Implement the function `conv_net` to create a convolutional neural network model. The function takes in a batch of images, `x`, and outputs logits.  Use the layers you created above to create this model:\n",
    "\n",
    "* Apply 1, 2, or 3 Convolution and Max Pool layers\n",
    "* Apply a Flatten Layer\n",
    "* Apply 1, 2, or 3 Fully Connected Layers\n",
    "* Apply an Output Layer\n",
    "* Return the output\n",
    "* Apply [TensorFlow's Dropout](https://www.tensorflow.org/api_docs/python/tf/nn/dropout) to one or more layers in the model using `keep_prob`. "
   ]
  },
  {
   "cell_type": "code",
   "execution_count": 105,
   "metadata": {},
   "outputs": [
    {
     "name": "stdout",
     "output_type": "stream",
     "text": [
      "Neural Network Built!\n"
     ]
    }
   ],
   "source": [
    "def conv_net(x, keep_prob):\n",
    "    \"\"\"\n",
    "    Create a convolutional neural network model\n",
    "    : x: Placeholder tensor that holds image data.\n",
    "    : keep_prob: Placeholder tensor that hold dropout keep probability.\n",
    "    : return: Tensor that represents logits\n",
    "    \"\"\"\n",
    "    # TODO: Apply 1, 2, or 3 Convolution and Max Pool layers\n",
    "    #    Play around with different number of outputs, kernel size and stride\n",
    "    # Function Definition from Above:\n",
    "    x_tensor=x\n",
    "    conv_num_outputs=32\n",
    "    conv_ksize=(3,3)\n",
    "    conv_strides=(1,1)\n",
    "    pool_ksize=(2,2)\n",
    "    pool_strides=(2,2)\n",
    "    x_tensor=conv2d_maxpool(x_tensor, conv_num_outputs, conv_ksize, conv_strides, pool_ksize, pool_strides)\n",
    "    \n",
    "    conv_num_outputs=64\n",
    "    conv_ksize=(3,3)\n",
    "    conv_strides=(1,1)\n",
    "    pool_ksize=(2,2)\n",
    "    pool_strides=(2,2)\n",
    "    x_tensor=conv2d_maxpool(x_tensor, conv_num_outputs, conv_ksize, conv_strides, pool_ksize, pool_strides)\n",
    "    \n",
    "    conv_num_outputs=64\n",
    "    conv_ksize=(3,3)\n",
    "    conv_strides=(2,2)\n",
    "    pool_ksize=(2,2)\n",
    "    pool_strides=(2,2)\n",
    "    x_tensor=conv2d_maxpool(x_tensor, conv_num_outputs, conv_ksize, conv_strides, pool_ksize, pool_strides)\n",
    "    \n",
    "\n",
    "    # TODO: Apply a Flatten Layer\n",
    "    # Function Definition from Above:\n",
    "    x_tensor=flatten(x_tensor)\n",
    "    \n",
    "\n",
    "    # TODO: Apply 1, 2, or 3 Fully Connected Layers\n",
    "    #    Play around with different number of outputs\n",
    "    # Function Definition from Above:\n",
    "    x_tensor=fully_conn(x_tensor, num_outputs=128)\n",
    "    x_tensor=tf.nn.dropout(x_tensor,keep_prob)\n",
    "\n",
    "    x_tensor=fully_conn(x_tensor, num_outputs=256)\n",
    "    x_tensor=tf.nn.dropout(x_tensor,keep_prob)  \n",
    "    \n",
    "    \n",
    "    # TODO: Apply an Output Layer\n",
    "    #    Set this to the number of classes\n",
    "    # Function Definition from Above:\n",
    "    x_tensor=output(x_tensor, num_outputs=10)\n",
    "    \n",
    "    # TODO: return output\n",
    "    return x_tensor\n",
    "\n",
    "\n",
    "\"\"\"\n",
    "DON'T MODIFY ANYTHING IN THIS CELL THAT IS BELOW THIS LINE\n",
    "\"\"\"\n",
    "\n",
    "##############################\n",
    "## Build the Neural Network ##\n",
    "##############################\n",
    "\n",
    "# Remove previous weights, bias, inputs, etc..\n",
    "tf.reset_default_graph()\n",
    "\n",
    "# Inputs\n",
    "x = neural_net_image_input((32, 32, 3))\n",
    "y = neural_net_label_input(10)\n",
    "keep_prob = neural_net_keep_prob_input()\n",
    "\n",
    "# Model\n",
    "logits = conv_net(x, keep_prob)\n",
    "\n",
    "# Name logits Tensor, so that is can be loaded from disk after training\n",
    "logits = tf.identity(logits, name='logits')\n",
    "\n",
    "# Loss and Optimizer\n",
    "cost = tf.reduce_mean(tf.nn.softmax_cross_entropy_with_logits(logits=logits, labels=y))\n",
    "optimizer = tf.train.AdamOptimizer().minimize(cost)\n",
    "\n",
    "# Accuracy\n",
    "correct_pred = tf.equal(tf.argmax(logits, 1), tf.argmax(y, 1))\n",
    "accuracy = tf.reduce_mean(tf.cast(correct_pred, tf.float32), name='accuracy')\n",
    "\n",
    "tests.test_conv_net(conv_net)"
   ]
  },
  {
   "cell_type": "markdown",
   "metadata": {},
   "source": [
    "## Train the Neural Network\n",
    "### Single Optimization\n",
    "Implement the function `train_neural_network` to do a single optimization.  The optimization should use `optimizer` to optimize in `session` with a `feed_dict` of the following:\n",
    "* `x` for image input\n",
    "* `y` for labels\n",
    "* `keep_prob` for keep probability for dropout\n",
    "\n",
    "This function will be called for each batch, so `tf.global_variables_initializer()` has already been called.\n",
    "\n",
    "Note: Nothing needs to be returned. This function is only optimizing the neural network."
   ]
  },
  {
   "cell_type": "code",
   "execution_count": 106,
   "metadata": {},
   "outputs": [
    {
     "name": "stdout",
     "output_type": "stream",
     "text": [
      "Tests Passed\n"
     ]
    }
   ],
   "source": [
    "def train_neural_network(session, optimizer, keep_probability, feature_batch, label_batch):\n",
    "    \"\"\"\n",
    "    Optimize the session on a batch of images and labels\n",
    "    : session: Current TensorFlow session\n",
    "    : optimizer: TensorFlow optimizer function\n",
    "    : keep_probability: keep probability\n",
    "    : feature_batch: Batch of Numpy image data\n",
    "    : label_batch: Batch of Numpy label data\n",
    "    \"\"\"\n",
    "    # TODO: Implement Function\n",
    "\n",
    "    session.run(optimizer,feed_dict={x:feature_batch,y:label_batch,keep_prob:keep_probability})\n",
    "\n",
    "\n",
    "\"\"\"\n",
    "DON'T MODIFY ANYTHING IN THIS CELL THAT IS BELOW THIS LINE\n",
    "\"\"\"\n",
    "tests.test_train_nn(train_neural_network)"
   ]
  },
  {
   "cell_type": "markdown",
   "metadata": {},
   "source": [
    "### Show Stats\n",
    "Implement the function `print_stats` to print loss and validation accuracy.  Use the global variables `valid_features` and `valid_labels` to calculate validation accuracy.  Use a keep probability of `1.0` to calculate the loss and validation accuracy."
   ]
  },
  {
   "cell_type": "code",
   "execution_count": 107,
   "metadata": {
    "collapsed": true
   },
   "outputs": [],
   "source": [
    "def print_stats(session, feature_batch, label_batch, cost, accuracy):\n",
    "    \"\"\"\n",
    "    Print information about loss and validation accuracy\n",
    "    : session: Current TensorFlow session\n",
    "    : feature_batch: Batch of Numpy image data\n",
    "    : label_batch: Batch of Numpy label data\n",
    "    : cost: TensorFlow cost function\n",
    "    : accuracy: TensorFlow accuracy function\n",
    "    \"\"\"\n",
    "    # TODO: Implement Function\n",
    "    loss=session.run(cost,feed_dict={x:feature_batch,y:label_batch,keep_prob:1.})\n",
    "    accu=session.run(accuracy,feed_dict={x:valid_features,y:valid_labels,keep_prob:1.})\n",
    "    print('Loss: {:.4f} Validation Accuracy: {:.4f}'.format(loss,accu))"
   ]
  },
  {
   "cell_type": "markdown",
   "metadata": {},
   "source": [
    "### Hyperparameters\n",
    "Tune the following parameters:\n",
    "* Set `epochs` to the number of iterations until the network stops learning or start overfitting\n",
    "* Set `batch_size` to the highest number that your machine has memory for.  Most people set them to common sizes of memory:\n",
    " * 64\n",
    " * 128\n",
    " * 256\n",
    " * ...\n",
    "* Set `keep_probability` to the probability of keeping a node using dropout"
   ]
  },
  {
   "cell_type": "code",
   "execution_count": 114,
   "metadata": {
    "collapsed": true
   },
   "outputs": [],
   "source": [
    "# TODO: Tune Parameters\n",
    "epochs = 64\n",
    "batch_size = 256\n",
    "keep_probability = 0.75"
   ]
  },
  {
   "cell_type": "markdown",
   "metadata": {},
   "source": [
    "### Train on a Single CIFAR-10 Batch\n",
    "Instead of training the neural network on all the CIFAR-10 batches of data, let's use a single batch. This should save time while you iterate on the model to get a better accuracy.  Once the final validation accuracy is 50% or greater, run the model on all the data in the next section."
   ]
  },
  {
   "cell_type": "code",
   "execution_count": 115,
   "metadata": {},
   "outputs": [
    {
     "name": "stdout",
     "output_type": "stream",
     "text": [
      "Checking the Training on a Single Batch...\n",
      "Epoch  1, CIFAR-10 Batch 1:  Loss: 2.3019 Validation Accuracy: 0.1068\n",
      "Epoch  2, CIFAR-10 Batch 1:  Loss: 2.2913 Validation Accuracy: 0.1070\n",
      "Epoch  3, CIFAR-10 Batch 1:  Loss: 2.1054 Validation Accuracy: 0.2056\n",
      "Epoch  4, CIFAR-10 Batch 1:  Loss: 2.0928 Validation Accuracy: 0.2740\n",
      "Epoch  5, CIFAR-10 Batch 1:  Loss: 2.0417 Validation Accuracy: 0.3024\n",
      "Epoch  6, CIFAR-10 Batch 1:  Loss: 2.0209 Validation Accuracy: 0.3332\n",
      "Epoch  7, CIFAR-10 Batch 1:  Loss: 1.9404 Validation Accuracy: 0.3712\n",
      "Epoch  8, CIFAR-10 Batch 1:  Loss: 1.8011 Validation Accuracy: 0.3974\n",
      "Epoch  9, CIFAR-10 Batch 1:  Loss: 1.6727 Validation Accuracy: 0.4016\n",
      "Epoch 10, CIFAR-10 Batch 1:  Loss: 1.5720 Validation Accuracy: 0.4136\n",
      "Epoch 11, CIFAR-10 Batch 1:  Loss: 1.4838 Validation Accuracy: 0.4346\n",
      "Epoch 12, CIFAR-10 Batch 1:  Loss: 1.3769 Validation Accuracy: 0.4318\n",
      "Epoch 13, CIFAR-10 Batch 1:  Loss: 1.3487 Validation Accuracy: 0.4358\n",
      "Epoch 14, CIFAR-10 Batch 1:  Loss: 1.2524 Validation Accuracy: 0.4506\n",
      "Epoch 15, CIFAR-10 Batch 1:  Loss: 1.2161 Validation Accuracy: 0.4420\n",
      "Epoch 16, CIFAR-10 Batch 1:  Loss: 1.1361 Validation Accuracy: 0.4524\n",
      "Epoch 17, CIFAR-10 Batch 1:  Loss: 1.0256 Validation Accuracy: 0.4636\n",
      "Epoch 18, CIFAR-10 Batch 1:  Loss: 0.9807 Validation Accuracy: 0.4550\n",
      "Epoch 19, CIFAR-10 Batch 1:  Loss: 0.8996 Validation Accuracy: 0.4774\n",
      "Epoch 20, CIFAR-10 Batch 1:  Loss: 0.8461 Validation Accuracy: 0.4778\n",
      "Epoch 21, CIFAR-10 Batch 1:  Loss: 0.8056 Validation Accuracy: 0.4728\n",
      "Epoch 22, CIFAR-10 Batch 1:  Loss: 0.7405 Validation Accuracy: 0.4826\n",
      "Epoch 23, CIFAR-10 Batch 1:  Loss: 0.7176 Validation Accuracy: 0.4780\n",
      "Epoch 24, CIFAR-10 Batch 1:  Loss: 0.6611 Validation Accuracy: 0.4980\n",
      "Epoch 25, CIFAR-10 Batch 1:  Loss: 0.6227 Validation Accuracy: 0.5036\n",
      "Epoch 26, CIFAR-10 Batch 1:  Loss: 0.6196 Validation Accuracy: 0.5024\n",
      "Epoch 27, CIFAR-10 Batch 1:  Loss: 0.5504 Validation Accuracy: 0.5138\n",
      "Epoch 28, CIFAR-10 Batch 1:  Loss: 0.5222 Validation Accuracy: 0.5136\n",
      "Epoch 29, CIFAR-10 Batch 1:  Loss: 0.4993 Validation Accuracy: 0.5166\n",
      "Epoch 30, CIFAR-10 Batch 1:  Loss: 0.4811 Validation Accuracy: 0.5098\n",
      "Epoch 31, CIFAR-10 Batch 1:  Loss: 0.4617 Validation Accuracy: 0.5138\n",
      "Epoch 32, CIFAR-10 Batch 1:  Loss: 0.4300 Validation Accuracy: 0.5212\n",
      "Epoch 33, CIFAR-10 Batch 1:  Loss: 0.4194 Validation Accuracy: 0.5198\n",
      "Epoch 34, CIFAR-10 Batch 1:  Loss: 0.3848 Validation Accuracy: 0.5180\n",
      "Epoch 35, CIFAR-10 Batch 1:  Loss: 0.3662 Validation Accuracy: 0.5156\n",
      "Epoch 36, CIFAR-10 Batch 1:  Loss: 0.3631 Validation Accuracy: 0.5156\n",
      "Epoch 37, CIFAR-10 Batch 1:  Loss: 0.3410 Validation Accuracy: 0.5238\n",
      "Epoch 38, CIFAR-10 Batch 1:  Loss: 0.3244 Validation Accuracy: 0.5214\n",
      "Epoch 39, CIFAR-10 Batch 1:  Loss: 0.3100 Validation Accuracy: 0.5178\n",
      "Epoch 40, CIFAR-10 Batch 1:  Loss: 0.3093 Validation Accuracy: 0.5154\n",
      "Epoch 41, CIFAR-10 Batch 1:  Loss: 0.2943 Validation Accuracy: 0.5132\n",
      "Epoch 42, CIFAR-10 Batch 1:  Loss: 0.2854 Validation Accuracy: 0.5178\n",
      "Epoch 43, CIFAR-10 Batch 1:  Loss: 0.2871 Validation Accuracy: 0.5078\n",
      "Epoch 44, CIFAR-10 Batch 1:  Loss: 0.2685 Validation Accuracy: 0.5100\n",
      "Epoch 45, CIFAR-10 Batch 1:  Loss: 0.2553 Validation Accuracy: 0.5196\n",
      "Epoch 46, CIFAR-10 Batch 1:  Loss: 0.2206 Validation Accuracy: 0.5138\n",
      "Epoch 47, CIFAR-10 Batch 1:  Loss: 0.2116 Validation Accuracy: 0.5188\n",
      "Epoch 48, CIFAR-10 Batch 1:  Loss: 0.2242 Validation Accuracy: 0.5222\n",
      "Epoch 49, CIFAR-10 Batch 1:  Loss: 0.2491 Validation Accuracy: 0.5052\n",
      "Epoch 50, CIFAR-10 Batch 1:  Loss: 0.2609 Validation Accuracy: 0.4988\n",
      "Epoch 51, CIFAR-10 Batch 1:  Loss: 0.2374 Validation Accuracy: 0.5020\n",
      "Epoch 52, CIFAR-10 Batch 1:  Loss: 0.2207 Validation Accuracy: 0.4940\n",
      "Epoch 53, CIFAR-10 Batch 1:  Loss: 0.1737 Validation Accuracy: 0.5018\n",
      "Epoch 54, CIFAR-10 Batch 1:  Loss: 0.1757 Validation Accuracy: 0.5128\n",
      "Epoch 55, CIFAR-10 Batch 1:  Loss: 0.1572 Validation Accuracy: 0.5078\n",
      "Epoch 56, CIFAR-10 Batch 1:  Loss: 0.1622 Validation Accuracy: 0.5018\n",
      "Epoch 57, CIFAR-10 Batch 1:  Loss: 0.1473 Validation Accuracy: 0.5206\n",
      "Epoch 58, CIFAR-10 Batch 1:  Loss: 0.1488 Validation Accuracy: 0.5140\n",
      "Epoch 59, CIFAR-10 Batch 1:  Loss: 0.1271 Validation Accuracy: 0.5154\n",
      "Epoch 60, CIFAR-10 Batch 1:  Loss: 0.1252 Validation Accuracy: 0.5202\n",
      "Epoch 61, CIFAR-10 Batch 1:  Loss: 0.1134 Validation Accuracy: 0.5158\n",
      "Epoch 62, CIFAR-10 Batch 1:  Loss: 0.1180 Validation Accuracy: 0.5218\n",
      "Epoch 63, CIFAR-10 Batch 1:  Loss: 0.1229 Validation Accuracy: 0.5222\n",
      "Epoch 64, CIFAR-10 Batch 1:  Loss: 0.1086 Validation Accuracy: 0.5182\n"
     ]
    }
   ],
   "source": [
    "\"\"\"\n",
    "DON'T MODIFY ANYTHING IN THIS CELL\n",
    "\"\"\"\n",
    "print('Checking the Training on a Single Batch...')\n",
    "with tf.Session() as sess:\n",
    "    # Initializing the variables\n",
    "    sess.run(tf.global_variables_initializer())\n",
    "    \n",
    "    # Training cycle\n",
    "    for epoch in range(epochs):\n",
    "        batch_i = 1\n",
    "        for batch_features, batch_labels in helper.load_preprocess_training_batch(batch_i, batch_size):\n",
    "            train_neural_network(sess, optimizer, keep_probability, batch_features, batch_labels)\n",
    "        print('Epoch {:>2}, CIFAR-10 Batch {}:  '.format(epoch + 1, batch_i), end='')\n",
    "        print_stats(sess, batch_features, batch_labels, cost, accuracy)"
   ]
  },
  {
   "cell_type": "markdown",
   "metadata": {},
   "source": [
    "### Fully Train the Model\n",
    "Now that you got a good accuracy with a single CIFAR-10 batch, try it with all five batches."
   ]
  },
  {
   "cell_type": "code",
   "execution_count": 116,
   "metadata": {},
   "outputs": [
    {
     "name": "stdout",
     "output_type": "stream",
     "text": [
      "Training...\n",
      "Epoch  1, CIFAR-10 Batch 1:  Loss: 2.2958 Validation Accuracy: 0.1068\n",
      "Epoch  1, CIFAR-10 Batch 2:  Loss: 2.2494 Validation Accuracy: 0.1606\n",
      "Epoch  1, CIFAR-10 Batch 3:  Loss: 1.9749 Validation Accuracy: 0.2282\n",
      "Epoch  1, CIFAR-10 Batch 4:  Loss: 1.9583 Validation Accuracy: 0.2586\n",
      "Epoch  1, CIFAR-10 Batch 5:  Loss: 2.0390 Validation Accuracy: 0.2804\n",
      "Epoch  2, CIFAR-10 Batch 1:  Loss: 2.1495 Validation Accuracy: 0.3222\n",
      "Epoch  2, CIFAR-10 Batch 2:  Loss: 2.0754 Validation Accuracy: 0.3362\n",
      "Epoch  2, CIFAR-10 Batch 3:  Loss: 1.5505 Validation Accuracy: 0.3510\n",
      "Epoch  2, CIFAR-10 Batch 4:  Loss: 1.6479 Validation Accuracy: 0.3818\n",
      "Epoch  2, CIFAR-10 Batch 5:  Loss: 1.7324 Validation Accuracy: 0.3934\n",
      "Epoch  3, CIFAR-10 Batch 1:  Loss: 1.9823 Validation Accuracy: 0.4002\n",
      "Epoch  3, CIFAR-10 Batch 2:  Loss: 1.8101 Validation Accuracy: 0.4140\n",
      "Epoch  3, CIFAR-10 Batch 3:  Loss: 1.2725 Validation Accuracy: 0.4048\n",
      "Epoch  3, CIFAR-10 Batch 4:  Loss: 1.3893 Validation Accuracy: 0.4402\n",
      "Epoch  3, CIFAR-10 Batch 5:  Loss: 1.6822 Validation Accuracy: 0.4408\n",
      "Epoch  4, CIFAR-10 Batch 1:  Loss: 1.8543 Validation Accuracy: 0.4528\n",
      "Epoch  4, CIFAR-10 Batch 2:  Loss: 1.6862 Validation Accuracy: 0.4472\n",
      "Epoch  4, CIFAR-10 Batch 3:  Loss: 1.1746 Validation Accuracy: 0.4230\n",
      "Epoch  4, CIFAR-10 Batch 4:  Loss: 1.2694 Validation Accuracy: 0.4694\n",
      "Epoch  4, CIFAR-10 Batch 5:  Loss: 1.5604 Validation Accuracy: 0.4704\n",
      "Epoch  5, CIFAR-10 Batch 1:  Loss: 1.7615 Validation Accuracy: 0.4762\n",
      "Epoch  5, CIFAR-10 Batch 2:  Loss: 1.5057 Validation Accuracy: 0.4668\n",
      "Epoch  5, CIFAR-10 Batch 3:  Loss: 1.1193 Validation Accuracy: 0.4580\n",
      "Epoch  5, CIFAR-10 Batch 4:  Loss: 1.2175 Validation Accuracy: 0.4784\n",
      "Epoch  5, CIFAR-10 Batch 5:  Loss: 1.4950 Validation Accuracy: 0.4876\n",
      "Epoch  6, CIFAR-10 Batch 1:  Loss: 1.6105 Validation Accuracy: 0.4954\n",
      "Epoch  6, CIFAR-10 Batch 2:  Loss: 1.3873 Validation Accuracy: 0.4736\n",
      "Epoch  6, CIFAR-10 Batch 3:  Loss: 1.1029 Validation Accuracy: 0.4798\n",
      "Epoch  6, CIFAR-10 Batch 4:  Loss: 1.1907 Validation Accuracy: 0.4896\n",
      "Epoch  6, CIFAR-10 Batch 5:  Loss: 1.4154 Validation Accuracy: 0.5018\n",
      "Epoch  7, CIFAR-10 Batch 1:  Loss: 1.5342 Validation Accuracy: 0.5022\n",
      "Epoch  7, CIFAR-10 Batch 2:  Loss: 1.3296 Validation Accuracy: 0.4900\n",
      "Epoch  7, CIFAR-10 Batch 3:  Loss: 1.0215 Validation Accuracy: 0.4996\n",
      "Epoch  7, CIFAR-10 Batch 4:  Loss: 1.1386 Validation Accuracy: 0.5048\n",
      "Epoch  7, CIFAR-10 Batch 5:  Loss: 1.3593 Validation Accuracy: 0.5138\n",
      "Epoch  8, CIFAR-10 Batch 1:  Loss: 1.4304 Validation Accuracy: 0.5192\n",
      "Epoch  8, CIFAR-10 Batch 2:  Loss: 1.2601 Validation Accuracy: 0.4942\n",
      "Epoch  8, CIFAR-10 Batch 3:  Loss: 0.9845 Validation Accuracy: 0.5156\n",
      "Epoch  8, CIFAR-10 Batch 4:  Loss: 1.0931 Validation Accuracy: 0.5236\n",
      "Epoch  8, CIFAR-10 Batch 5:  Loss: 1.2660 Validation Accuracy: 0.5198\n",
      "Epoch  9, CIFAR-10 Batch 1:  Loss: 1.3675 Validation Accuracy: 0.5334\n",
      "Epoch  9, CIFAR-10 Batch 2:  Loss: 1.1522 Validation Accuracy: 0.5110\n",
      "Epoch  9, CIFAR-10 Batch 3:  Loss: 0.9171 Validation Accuracy: 0.5244\n",
      "Epoch  9, CIFAR-10 Batch 4:  Loss: 1.0349 Validation Accuracy: 0.5232\n",
      "Epoch  9, CIFAR-10 Batch 5:  Loss: 1.1833 Validation Accuracy: 0.5324\n",
      "Epoch 10, CIFAR-10 Batch 1:  Loss: 1.3028 Validation Accuracy: 0.5364\n",
      "Epoch 10, CIFAR-10 Batch 2:  Loss: 1.1281 Validation Accuracy: 0.5132\n",
      "Epoch 10, CIFAR-10 Batch 3:  Loss: 0.8728 Validation Accuracy: 0.5284\n",
      "Epoch 10, CIFAR-10 Batch 4:  Loss: 1.0186 Validation Accuracy: 0.5442\n",
      "Epoch 10, CIFAR-10 Batch 5:  Loss: 1.1581 Validation Accuracy: 0.5370\n",
      "Epoch 11, CIFAR-10 Batch 1:  Loss: 1.2527 Validation Accuracy: 0.5432\n",
      "Epoch 11, CIFAR-10 Batch 2:  Loss: 1.0319 Validation Accuracy: 0.5330\n",
      "Epoch 11, CIFAR-10 Batch 3:  Loss: 0.8260 Validation Accuracy: 0.5260\n",
      "Epoch 11, CIFAR-10 Batch 4:  Loss: 0.9977 Validation Accuracy: 0.5342\n",
      "Epoch 11, CIFAR-10 Batch 5:  Loss: 1.0740 Validation Accuracy: 0.5456\n",
      "Epoch 12, CIFAR-10 Batch 1:  Loss: 1.2020 Validation Accuracy: 0.5454\n",
      "Epoch 12, CIFAR-10 Batch 2:  Loss: 0.9800 Validation Accuracy: 0.5526\n",
      "Epoch 12, CIFAR-10 Batch 3:  Loss: 0.7941 Validation Accuracy: 0.5502\n",
      "Epoch 12, CIFAR-10 Batch 4:  Loss: 0.9225 Validation Accuracy: 0.5404\n",
      "Epoch 12, CIFAR-10 Batch 5:  Loss: 1.0632 Validation Accuracy: 0.5414\n",
      "Epoch 13, CIFAR-10 Batch 1:  Loss: 1.1477 Validation Accuracy: 0.5594\n",
      "Epoch 13, CIFAR-10 Batch 2:  Loss: 0.9233 Validation Accuracy: 0.5530\n",
      "Epoch 13, CIFAR-10 Batch 3:  Loss: 0.7993 Validation Accuracy: 0.5512\n",
      "Epoch 13, CIFAR-10 Batch 4:  Loss: 0.8816 Validation Accuracy: 0.5602\n",
      "Epoch 13, CIFAR-10 Batch 5:  Loss: 0.9745 Validation Accuracy: 0.5598\n",
      "Epoch 14, CIFAR-10 Batch 1:  Loss: 1.1105 Validation Accuracy: 0.5588\n",
      "Epoch 14, CIFAR-10 Batch 2:  Loss: 0.8789 Validation Accuracy: 0.5466\n",
      "Epoch 14, CIFAR-10 Batch 3:  Loss: 0.7800 Validation Accuracy: 0.5598\n",
      "Epoch 14, CIFAR-10 Batch 4:  Loss: 0.8224 Validation Accuracy: 0.5638\n",
      "Epoch 14, CIFAR-10 Batch 5:  Loss: 0.9365 Validation Accuracy: 0.5680\n",
      "Epoch 15, CIFAR-10 Batch 1:  Loss: 1.0811 Validation Accuracy: 0.5676\n",
      "Epoch 15, CIFAR-10 Batch 2:  Loss: 0.8483 Validation Accuracy: 0.5692\n",
      "Epoch 15, CIFAR-10 Batch 3:  Loss: 0.7422 Validation Accuracy: 0.5650\n",
      "Epoch 15, CIFAR-10 Batch 4:  Loss: 0.8100 Validation Accuracy: 0.5596\n",
      "Epoch 15, CIFAR-10 Batch 5:  Loss: 0.9108 Validation Accuracy: 0.5708\n",
      "Epoch 16, CIFAR-10 Batch 1:  Loss: 0.9928 Validation Accuracy: 0.5702\n",
      "Epoch 16, CIFAR-10 Batch 2:  Loss: 0.7546 Validation Accuracy: 0.5672\n",
      "Epoch 16, CIFAR-10 Batch 3:  Loss: 0.7079 Validation Accuracy: 0.5780\n",
      "Epoch 16, CIFAR-10 Batch 4:  Loss: 0.7535 Validation Accuracy: 0.5808\n",
      "Epoch 16, CIFAR-10 Batch 5:  Loss: 0.8968 Validation Accuracy: 0.5716\n",
      "Epoch 17, CIFAR-10 Batch 1:  Loss: 0.9813 Validation Accuracy: 0.5794\n",
      "Epoch 17, CIFAR-10 Batch 2:  Loss: 0.7492 Validation Accuracy: 0.5710\n",
      "Epoch 17, CIFAR-10 Batch 3:  Loss: 0.7286 Validation Accuracy: 0.5802\n",
      "Epoch 17, CIFAR-10 Batch 4:  Loss: 0.7329 Validation Accuracy: 0.5768\n",
      "Epoch 17, CIFAR-10 Batch 5:  Loss: 0.8217 Validation Accuracy: 0.5830\n",
      "Epoch 18, CIFAR-10 Batch 1:  Loss: 0.9923 Validation Accuracy: 0.5806\n",
      "Epoch 18, CIFAR-10 Batch 2:  Loss: 0.7211 Validation Accuracy: 0.5786\n",
      "Epoch 18, CIFAR-10 Batch 3:  Loss: 0.7001 Validation Accuracy: 0.5914\n",
      "Epoch 18, CIFAR-10 Batch 4:  Loss: 0.6814 Validation Accuracy: 0.5872\n",
      "Epoch 18, CIFAR-10 Batch 5:  Loss: 0.7728 Validation Accuracy: 0.5892\n",
      "Epoch 19, CIFAR-10 Batch 1:  Loss: 0.9283 Validation Accuracy: 0.5902\n",
      "Epoch 19, CIFAR-10 Batch 2:  Loss: 0.7049 Validation Accuracy: 0.5910\n",
      "Epoch 19, CIFAR-10 Batch 3:  Loss: 0.6748 Validation Accuracy: 0.5920\n",
      "Epoch 19, CIFAR-10 Batch 4:  Loss: 0.6804 Validation Accuracy: 0.5886\n",
      "Epoch 19, CIFAR-10 Batch 5:  Loss: 0.7527 Validation Accuracy: 0.5972\n",
      "Epoch 20, CIFAR-10 Batch 1:  Loss: 0.8907 Validation Accuracy: 0.6030\n",
      "Epoch 20, CIFAR-10 Batch 2:  Loss: 0.6778 Validation Accuracy: 0.5908\n",
      "Epoch 20, CIFAR-10 Batch 3:  Loss: 0.6401 Validation Accuracy: 0.6030\n",
      "Epoch 20, CIFAR-10 Batch 4:  Loss: 0.6453 Validation Accuracy: 0.5938\n",
      "Epoch 20, CIFAR-10 Batch 5:  Loss: 0.7465 Validation Accuracy: 0.5978\n",
      "Epoch 21, CIFAR-10 Batch 1:  Loss: 0.8463 Validation Accuracy: 0.6080\n",
      "Epoch 21, CIFAR-10 Batch 2:  Loss: 0.6301 Validation Accuracy: 0.6008\n",
      "Epoch 21, CIFAR-10 Batch 3:  Loss: 0.5973 Validation Accuracy: 0.6068\n",
      "Epoch 21, CIFAR-10 Batch 4:  Loss: 0.6577 Validation Accuracy: 0.6014\n",
      "Epoch 21, CIFAR-10 Batch 5:  Loss: 0.7143 Validation Accuracy: 0.6040\n",
      "Epoch 22, CIFAR-10 Batch 1:  Loss: 0.8257 Validation Accuracy: 0.6094\n",
      "Epoch 22, CIFAR-10 Batch 2:  Loss: 0.6051 Validation Accuracy: 0.5990\n",
      "Epoch 22, CIFAR-10 Batch 3:  Loss: 0.5815 Validation Accuracy: 0.6174\n",
      "Epoch 22, CIFAR-10 Batch 4:  Loss: 0.5744 Validation Accuracy: 0.6044\n",
      "Epoch 22, CIFAR-10 Batch 5:  Loss: 0.7088 Validation Accuracy: 0.6136\n",
      "Epoch 23, CIFAR-10 Batch 1:  Loss: 0.8008 Validation Accuracy: 0.6156\n",
      "Epoch 23, CIFAR-10 Batch 2:  Loss: 0.6195 Validation Accuracy: 0.6146\n",
      "Epoch 23, CIFAR-10 Batch 3:  Loss: 0.5947 Validation Accuracy: 0.6096\n",
      "Epoch 23, CIFAR-10 Batch 4:  Loss: 0.5642 Validation Accuracy: 0.6116\n",
      "Epoch 23, CIFAR-10 Batch 5:  Loss: 0.6794 Validation Accuracy: 0.6044\n",
      "Epoch 24, CIFAR-10 Batch 1:  Loss: 0.7848 Validation Accuracy: 0.6150\n",
      "Epoch 24, CIFAR-10 Batch 2:  Loss: 0.5713 Validation Accuracy: 0.6028\n"
     ]
    },
    {
     "name": "stdout",
     "output_type": "stream",
     "text": [
      "Epoch 24, CIFAR-10 Batch 3:  Loss: 0.5275 Validation Accuracy: 0.6176\n",
      "Epoch 24, CIFAR-10 Batch 4:  Loss: 0.5461 Validation Accuracy: 0.6154\n",
      "Epoch 24, CIFAR-10 Batch 5:  Loss: 0.6443 Validation Accuracy: 0.6164\n",
      "Epoch 25, CIFAR-10 Batch 1:  Loss: 0.7881 Validation Accuracy: 0.6126\n",
      "Epoch 25, CIFAR-10 Batch 2:  Loss: 0.5632 Validation Accuracy: 0.6072\n",
      "Epoch 25, CIFAR-10 Batch 3:  Loss: 0.5367 Validation Accuracy: 0.6188\n",
      "Epoch 25, CIFAR-10 Batch 4:  Loss: 0.5034 Validation Accuracy: 0.6158\n",
      "Epoch 25, CIFAR-10 Batch 5:  Loss: 0.6401 Validation Accuracy: 0.6114\n",
      "Epoch 26, CIFAR-10 Batch 1:  Loss: 0.7509 Validation Accuracy: 0.6276\n",
      "Epoch 26, CIFAR-10 Batch 2:  Loss: 0.6005 Validation Accuracy: 0.6074\n",
      "Epoch 26, CIFAR-10 Batch 3:  Loss: 0.5000 Validation Accuracy: 0.6154\n",
      "Epoch 26, CIFAR-10 Batch 4:  Loss: 0.5053 Validation Accuracy: 0.6102\n",
      "Epoch 26, CIFAR-10 Batch 5:  Loss: 0.6315 Validation Accuracy: 0.6268\n",
      "Epoch 27, CIFAR-10 Batch 1:  Loss: 0.7214 Validation Accuracy: 0.6262\n",
      "Epoch 27, CIFAR-10 Batch 2:  Loss: 0.5696 Validation Accuracy: 0.6116\n",
      "Epoch 27, CIFAR-10 Batch 3:  Loss: 0.4727 Validation Accuracy: 0.6220\n",
      "Epoch 27, CIFAR-10 Batch 4:  Loss: 0.4565 Validation Accuracy: 0.6186\n",
      "Epoch 27, CIFAR-10 Batch 5:  Loss: 0.6016 Validation Accuracy: 0.6210\n",
      "Epoch 28, CIFAR-10 Batch 1:  Loss: 0.7813 Validation Accuracy: 0.6228\n",
      "Epoch 28, CIFAR-10 Batch 2:  Loss: 0.5476 Validation Accuracy: 0.6158\n",
      "Epoch 28, CIFAR-10 Batch 3:  Loss: 0.4565 Validation Accuracy: 0.6258\n",
      "Epoch 28, CIFAR-10 Batch 4:  Loss: 0.4607 Validation Accuracy: 0.6218\n",
      "Epoch 28, CIFAR-10 Batch 5:  Loss: 0.5910 Validation Accuracy: 0.6162\n",
      "Epoch 29, CIFAR-10 Batch 1:  Loss: 0.7191 Validation Accuracy: 0.6322\n",
      "Epoch 29, CIFAR-10 Batch 2:  Loss: 0.5404 Validation Accuracy: 0.6142\n",
      "Epoch 29, CIFAR-10 Batch 3:  Loss: 0.4682 Validation Accuracy: 0.6320\n",
      "Epoch 29, CIFAR-10 Batch 4:  Loss: 0.4839 Validation Accuracy: 0.6252\n",
      "Epoch 29, CIFAR-10 Batch 5:  Loss: 0.5709 Validation Accuracy: 0.6314\n",
      "Epoch 30, CIFAR-10 Batch 1:  Loss: 0.6679 Validation Accuracy: 0.6396\n",
      "Epoch 30, CIFAR-10 Batch 2:  Loss: 0.5304 Validation Accuracy: 0.6138\n",
      "Epoch 30, CIFAR-10 Batch 3:  Loss: 0.4208 Validation Accuracy: 0.6360\n",
      "Epoch 30, CIFAR-10 Batch 4:  Loss: 0.4455 Validation Accuracy: 0.6330\n",
      "Epoch 30, CIFAR-10 Batch 5:  Loss: 0.5265 Validation Accuracy: 0.6420\n",
      "Epoch 31, CIFAR-10 Batch 1:  Loss: 0.6664 Validation Accuracy: 0.6372\n",
      "Epoch 31, CIFAR-10 Batch 2:  Loss: 0.5496 Validation Accuracy: 0.6212\n",
      "Epoch 31, CIFAR-10 Batch 3:  Loss: 0.3959 Validation Accuracy: 0.6354\n",
      "Epoch 31, CIFAR-10 Batch 4:  Loss: 0.4341 Validation Accuracy: 0.6342\n",
      "Epoch 31, CIFAR-10 Batch 5:  Loss: 0.5208 Validation Accuracy: 0.6388\n",
      "Epoch 32, CIFAR-10 Batch 1:  Loss: 0.6297 Validation Accuracy: 0.6448\n",
      "Epoch 32, CIFAR-10 Batch 2:  Loss: 0.4952 Validation Accuracy: 0.6290\n",
      "Epoch 32, CIFAR-10 Batch 3:  Loss: 0.3825 Validation Accuracy: 0.6404\n",
      "Epoch 32, CIFAR-10 Batch 4:  Loss: 0.4027 Validation Accuracy: 0.6340\n",
      "Epoch 32, CIFAR-10 Batch 5:  Loss: 0.4735 Validation Accuracy: 0.6356\n",
      "Epoch 33, CIFAR-10 Batch 1:  Loss: 0.6452 Validation Accuracy: 0.6458\n",
      "Epoch 33, CIFAR-10 Batch 2:  Loss: 0.4900 Validation Accuracy: 0.6340\n",
      "Epoch 33, CIFAR-10 Batch 3:  Loss: 0.3737 Validation Accuracy: 0.6414\n",
      "Epoch 33, CIFAR-10 Batch 4:  Loss: 0.4158 Validation Accuracy: 0.6350\n",
      "Epoch 33, CIFAR-10 Batch 5:  Loss: 0.4737 Validation Accuracy: 0.6364\n",
      "Epoch 34, CIFAR-10 Batch 1:  Loss: 0.6031 Validation Accuracy: 0.6432\n",
      "Epoch 34, CIFAR-10 Batch 2:  Loss: 0.4328 Validation Accuracy: 0.6398\n",
      "Epoch 34, CIFAR-10 Batch 3:  Loss: 0.3781 Validation Accuracy: 0.6428\n",
      "Epoch 34, CIFAR-10 Batch 4:  Loss: 0.4175 Validation Accuracy: 0.6296\n",
      "Epoch 34, CIFAR-10 Batch 5:  Loss: 0.4454 Validation Accuracy: 0.6438\n",
      "Epoch 35, CIFAR-10 Batch 1:  Loss: 0.5786 Validation Accuracy: 0.6426\n",
      "Epoch 35, CIFAR-10 Batch 2:  Loss: 0.4470 Validation Accuracy: 0.6408\n",
      "Epoch 35, CIFAR-10 Batch 3:  Loss: 0.3658 Validation Accuracy: 0.6396\n",
      "Epoch 35, CIFAR-10 Batch 4:  Loss: 0.3893 Validation Accuracy: 0.6374\n",
      "Epoch 35, CIFAR-10 Batch 5:  Loss: 0.4368 Validation Accuracy: 0.6374\n",
      "Epoch 36, CIFAR-10 Batch 1:  Loss: 0.5796 Validation Accuracy: 0.6472\n",
      "Epoch 36, CIFAR-10 Batch 2:  Loss: 0.4126 Validation Accuracy: 0.6440\n",
      "Epoch 36, CIFAR-10 Batch 3:  Loss: 0.3678 Validation Accuracy: 0.6394\n",
      "Epoch 36, CIFAR-10 Batch 4:  Loss: 0.3678 Validation Accuracy: 0.6418\n",
      "Epoch 36, CIFAR-10 Batch 5:  Loss: 0.4209 Validation Accuracy: 0.6376\n",
      "Epoch 37, CIFAR-10 Batch 1:  Loss: 0.5333 Validation Accuracy: 0.6452\n",
      "Epoch 37, CIFAR-10 Batch 2:  Loss: 0.4364 Validation Accuracy: 0.6362\n",
      "Epoch 37, CIFAR-10 Batch 3:  Loss: 0.3560 Validation Accuracy: 0.6402\n",
      "Epoch 37, CIFAR-10 Batch 4:  Loss: 0.3387 Validation Accuracy: 0.6528\n",
      "Epoch 37, CIFAR-10 Batch 5:  Loss: 0.3915 Validation Accuracy: 0.6450\n",
      "Epoch 38, CIFAR-10 Batch 1:  Loss: 0.5459 Validation Accuracy: 0.6462\n",
      "Epoch 38, CIFAR-10 Batch 2:  Loss: 0.4242 Validation Accuracy: 0.6424\n",
      "Epoch 38, CIFAR-10 Batch 3:  Loss: 0.3760 Validation Accuracy: 0.6318\n",
      "Epoch 38, CIFAR-10 Batch 4:  Loss: 0.3511 Validation Accuracy: 0.6500\n",
      "Epoch 38, CIFAR-10 Batch 5:  Loss: 0.3761 Validation Accuracy: 0.6452\n",
      "Epoch 39, CIFAR-10 Batch 1:  Loss: 0.5401 Validation Accuracy: 0.6534\n",
      "Epoch 39, CIFAR-10 Batch 2:  Loss: 0.3969 Validation Accuracy: 0.6506\n",
      "Epoch 39, CIFAR-10 Batch 3:  Loss: 0.3401 Validation Accuracy: 0.6460\n",
      "Epoch 39, CIFAR-10 Batch 4:  Loss: 0.3496 Validation Accuracy: 0.6466\n",
      "Epoch 39, CIFAR-10 Batch 5:  Loss: 0.3914 Validation Accuracy: 0.6424\n",
      "Epoch 40, CIFAR-10 Batch 1:  Loss: 0.5483 Validation Accuracy: 0.6488\n",
      "Epoch 40, CIFAR-10 Batch 2:  Loss: 0.4156 Validation Accuracy: 0.6422\n",
      "Epoch 40, CIFAR-10 Batch 3:  Loss: 0.3303 Validation Accuracy: 0.6418\n",
      "Epoch 40, CIFAR-10 Batch 4:  Loss: 0.3001 Validation Accuracy: 0.6526\n",
      "Epoch 40, CIFAR-10 Batch 5:  Loss: 0.3603 Validation Accuracy: 0.6470\n",
      "Epoch 41, CIFAR-10 Batch 1:  Loss: 0.5428 Validation Accuracy: 0.6474\n",
      "Epoch 41, CIFAR-10 Batch 2:  Loss: 0.4079 Validation Accuracy: 0.6466\n",
      "Epoch 41, CIFAR-10 Batch 3:  Loss: 0.3165 Validation Accuracy: 0.6504\n",
      "Epoch 41, CIFAR-10 Batch 4:  Loss: 0.3172 Validation Accuracy: 0.6528\n",
      "Epoch 41, CIFAR-10 Batch 5:  Loss: 0.3739 Validation Accuracy: 0.6590\n",
      "Epoch 42, CIFAR-10 Batch 1:  Loss: 0.5289 Validation Accuracy: 0.6528\n",
      "Epoch 42, CIFAR-10 Batch 2:  Loss: 0.3840 Validation Accuracy: 0.6504\n",
      "Epoch 42, CIFAR-10 Batch 3:  Loss: 0.3084 Validation Accuracy: 0.6402\n",
      "Epoch 42, CIFAR-10 Batch 4:  Loss: 0.3057 Validation Accuracy: 0.6518\n",
      "Epoch 42, CIFAR-10 Batch 5:  Loss: 0.3673 Validation Accuracy: 0.6454\n",
      "Epoch 43, CIFAR-10 Batch 1:  Loss: 0.5036 Validation Accuracy: 0.6530\n",
      "Epoch 43, CIFAR-10 Batch 2:  Loss: 0.3693 Validation Accuracy: 0.6494\n",
      "Epoch 43, CIFAR-10 Batch 3:  Loss: 0.3263 Validation Accuracy: 0.6448\n",
      "Epoch 43, CIFAR-10 Batch 4:  Loss: 0.2942 Validation Accuracy: 0.6434\n",
      "Epoch 43, CIFAR-10 Batch 5:  Loss: 0.3427 Validation Accuracy: 0.6618\n",
      "Epoch 44, CIFAR-10 Batch 1:  Loss: 0.4749 Validation Accuracy: 0.6558\n",
      "Epoch 44, CIFAR-10 Batch 2:  Loss: 0.3658 Validation Accuracy: 0.6550\n",
      "Epoch 44, CIFAR-10 Batch 3:  Loss: 0.3140 Validation Accuracy: 0.6528\n",
      "Epoch 44, CIFAR-10 Batch 4:  Loss: 0.2757 Validation Accuracy: 0.6480\n",
      "Epoch 44, CIFAR-10 Batch 5:  Loss: 0.3683 Validation Accuracy: 0.6486\n",
      "Epoch 45, CIFAR-10 Batch 1:  Loss: 0.4796 Validation Accuracy: 0.6526\n",
      "Epoch 45, CIFAR-10 Batch 2:  Loss: 0.3930 Validation Accuracy: 0.6550\n",
      "Epoch 45, CIFAR-10 Batch 3:  Loss: 0.2869 Validation Accuracy: 0.6524\n",
      "Epoch 45, CIFAR-10 Batch 4:  Loss: 0.2971 Validation Accuracy: 0.6524\n",
      "Epoch 45, CIFAR-10 Batch 5:  Loss: 0.3146 Validation Accuracy: 0.6612\n",
      "Epoch 46, CIFAR-10 Batch 1:  Loss: 0.4678 Validation Accuracy: 0.6578\n",
      "Epoch 46, CIFAR-10 Batch 2:  Loss: 0.3624 Validation Accuracy: 0.6610\n",
      "Epoch 46, CIFAR-10 Batch 3:  Loss: 0.2935 Validation Accuracy: 0.6566\n",
      "Epoch 46, CIFAR-10 Batch 4:  Loss: 0.2853 Validation Accuracy: 0.6544\n",
      "Epoch 46, CIFAR-10 Batch 5:  Loss: 0.3400 Validation Accuracy: 0.6580\n",
      "Epoch 47, CIFAR-10 Batch 1:  Loss: 0.4805 Validation Accuracy: 0.6594\n",
      "Epoch 47, CIFAR-10 Batch 2:  Loss: 0.3489 Validation Accuracy: 0.6620\n",
      "Epoch 47, CIFAR-10 Batch 3:  Loss: 0.3067 Validation Accuracy: 0.6462\n",
      "Epoch 47, CIFAR-10 Batch 4:  Loss: 0.2787 Validation Accuracy: 0.6450\n",
      "Epoch 47, CIFAR-10 Batch 5:  Loss: 0.3209 Validation Accuracy: 0.6572\n"
     ]
    },
    {
     "name": "stdout",
     "output_type": "stream",
     "text": [
      "Epoch 48, CIFAR-10 Batch 1:  Loss: 0.4573 Validation Accuracy: 0.6674\n",
      "Epoch 48, CIFAR-10 Batch 2:  Loss: 0.3555 Validation Accuracy: 0.6608\n",
      "Epoch 48, CIFAR-10 Batch 3:  Loss: 0.2710 Validation Accuracy: 0.6594\n",
      "Epoch 48, CIFAR-10 Batch 4:  Loss: 0.2543 Validation Accuracy: 0.6474\n",
      "Epoch 48, CIFAR-10 Batch 5:  Loss: 0.3212 Validation Accuracy: 0.6554\n",
      "Epoch 49, CIFAR-10 Batch 1:  Loss: 0.4590 Validation Accuracy: 0.6636\n",
      "Epoch 49, CIFAR-10 Batch 2:  Loss: 0.2986 Validation Accuracy: 0.6702\n",
      "Epoch 49, CIFAR-10 Batch 3:  Loss: 0.2907 Validation Accuracy: 0.6542\n",
      "Epoch 49, CIFAR-10 Batch 4:  Loss: 0.2671 Validation Accuracy: 0.6560\n",
      "Epoch 49, CIFAR-10 Batch 5:  Loss: 0.2975 Validation Accuracy: 0.6712\n",
      "Epoch 50, CIFAR-10 Batch 1:  Loss: 0.4454 Validation Accuracy: 0.6602\n",
      "Epoch 50, CIFAR-10 Batch 2:  Loss: 0.3040 Validation Accuracy: 0.6686\n",
      "Epoch 50, CIFAR-10 Batch 3:  Loss: 0.2692 Validation Accuracy: 0.6558\n",
      "Epoch 50, CIFAR-10 Batch 4:  Loss: 0.2521 Validation Accuracy: 0.6482\n",
      "Epoch 50, CIFAR-10 Batch 5:  Loss: 0.2772 Validation Accuracy: 0.6658\n",
      "Epoch 51, CIFAR-10 Batch 1:  Loss: 0.4237 Validation Accuracy: 0.6654\n",
      "Epoch 51, CIFAR-10 Batch 2:  Loss: 0.2909 Validation Accuracy: 0.6718\n",
      "Epoch 51, CIFAR-10 Batch 3:  Loss: 0.2682 Validation Accuracy: 0.6618\n",
      "Epoch 51, CIFAR-10 Batch 4:  Loss: 0.2509 Validation Accuracy: 0.6618\n",
      "Epoch 51, CIFAR-10 Batch 5:  Loss: 0.2862 Validation Accuracy: 0.6670\n",
      "Epoch 52, CIFAR-10 Batch 1:  Loss: 0.4081 Validation Accuracy: 0.6664\n",
      "Epoch 52, CIFAR-10 Batch 2:  Loss: 0.3280 Validation Accuracy: 0.6606\n",
      "Epoch 52, CIFAR-10 Batch 3:  Loss: 0.2885 Validation Accuracy: 0.6558\n",
      "Epoch 52, CIFAR-10 Batch 4:  Loss: 0.2312 Validation Accuracy: 0.6656\n",
      "Epoch 52, CIFAR-10 Batch 5:  Loss: 0.2687 Validation Accuracy: 0.6712\n",
      "Epoch 53, CIFAR-10 Batch 1:  Loss: 0.4047 Validation Accuracy: 0.6672\n",
      "Epoch 53, CIFAR-10 Batch 2:  Loss: 0.3460 Validation Accuracy: 0.6648\n",
      "Epoch 53, CIFAR-10 Batch 3:  Loss: 0.2722 Validation Accuracy: 0.6638\n",
      "Epoch 53, CIFAR-10 Batch 4:  Loss: 0.2194 Validation Accuracy: 0.6578\n",
      "Epoch 53, CIFAR-10 Batch 5:  Loss: 0.2819 Validation Accuracy: 0.6678\n",
      "Epoch 54, CIFAR-10 Batch 1:  Loss: 0.3938 Validation Accuracy: 0.6674\n",
      "Epoch 54, CIFAR-10 Batch 2:  Loss: 0.3161 Validation Accuracy: 0.6604\n",
      "Epoch 54, CIFAR-10 Batch 3:  Loss: 0.2605 Validation Accuracy: 0.6650\n",
      "Epoch 54, CIFAR-10 Batch 4:  Loss: 0.2404 Validation Accuracy: 0.6532\n",
      "Epoch 54, CIFAR-10 Batch 5:  Loss: 0.2699 Validation Accuracy: 0.6670\n",
      "Epoch 55, CIFAR-10 Batch 1:  Loss: 0.3910 Validation Accuracy: 0.6638\n",
      "Epoch 55, CIFAR-10 Batch 2:  Loss: 0.2926 Validation Accuracy: 0.6714\n",
      "Epoch 55, CIFAR-10 Batch 3:  Loss: 0.2615 Validation Accuracy: 0.6678\n",
      "Epoch 55, CIFAR-10 Batch 4:  Loss: 0.2392 Validation Accuracy: 0.6542\n",
      "Epoch 55, CIFAR-10 Batch 5:  Loss: 0.2609 Validation Accuracy: 0.6630\n",
      "Epoch 56, CIFAR-10 Batch 1:  Loss: 0.3911 Validation Accuracy: 0.6652\n",
      "Epoch 56, CIFAR-10 Batch 2:  Loss: 0.2787 Validation Accuracy: 0.6742\n",
      "Epoch 56, CIFAR-10 Batch 3:  Loss: 0.2570 Validation Accuracy: 0.6644\n",
      "Epoch 56, CIFAR-10 Batch 4:  Loss: 0.2300 Validation Accuracy: 0.6576\n",
      "Epoch 56, CIFAR-10 Batch 5:  Loss: 0.2380 Validation Accuracy: 0.6682\n",
      "Epoch 57, CIFAR-10 Batch 1:  Loss: 0.3576 Validation Accuracy: 0.6684\n",
      "Epoch 57, CIFAR-10 Batch 2:  Loss: 0.2711 Validation Accuracy: 0.6740\n",
      "Epoch 57, CIFAR-10 Batch 3:  Loss: 0.2524 Validation Accuracy: 0.6546\n",
      "Epoch 57, CIFAR-10 Batch 4:  Loss: 0.2212 Validation Accuracy: 0.6614\n",
      "Epoch 57, CIFAR-10 Batch 5:  Loss: 0.2440 Validation Accuracy: 0.6732\n",
      "Epoch 58, CIFAR-10 Batch 1:  Loss: 0.3730 Validation Accuracy: 0.6706\n",
      "Epoch 58, CIFAR-10 Batch 2:  Loss: 0.2839 Validation Accuracy: 0.6654\n",
      "Epoch 58, CIFAR-10 Batch 3:  Loss: 0.2463 Validation Accuracy: 0.6700\n",
      "Epoch 58, CIFAR-10 Batch 4:  Loss: 0.2264 Validation Accuracy: 0.6618\n",
      "Epoch 58, CIFAR-10 Batch 5:  Loss: 0.2359 Validation Accuracy: 0.6658\n",
      "Epoch 59, CIFAR-10 Batch 1:  Loss: 0.3514 Validation Accuracy: 0.6744\n",
      "Epoch 59, CIFAR-10 Batch 2:  Loss: 0.2675 Validation Accuracy: 0.6616\n",
      "Epoch 59, CIFAR-10 Batch 3:  Loss: 0.2703 Validation Accuracy: 0.6656\n",
      "Epoch 59, CIFAR-10 Batch 4:  Loss: 0.2253 Validation Accuracy: 0.6570\n",
      "Epoch 59, CIFAR-10 Batch 5:  Loss: 0.2250 Validation Accuracy: 0.6762\n",
      "Epoch 60, CIFAR-10 Batch 1:  Loss: 0.3630 Validation Accuracy: 0.6766\n",
      "Epoch 60, CIFAR-10 Batch 2:  Loss: 0.2482 Validation Accuracy: 0.6764\n",
      "Epoch 60, CIFAR-10 Batch 3:  Loss: 0.2530 Validation Accuracy: 0.6740\n",
      "Epoch 60, CIFAR-10 Batch 4:  Loss: 0.2177 Validation Accuracy: 0.6602\n",
      "Epoch 60, CIFAR-10 Batch 5:  Loss: 0.2334 Validation Accuracy: 0.6742\n",
      "Epoch 61, CIFAR-10 Batch 1:  Loss: 0.3344 Validation Accuracy: 0.6726\n",
      "Epoch 61, CIFAR-10 Batch 2:  Loss: 0.2767 Validation Accuracy: 0.6738\n",
      "Epoch 61, CIFAR-10 Batch 3:  Loss: 0.2335 Validation Accuracy: 0.6684\n",
      "Epoch 61, CIFAR-10 Batch 4:  Loss: 0.2042 Validation Accuracy: 0.6726\n",
      "Epoch 61, CIFAR-10 Batch 5:  Loss: 0.2382 Validation Accuracy: 0.6712\n",
      "Epoch 62, CIFAR-10 Batch 1:  Loss: 0.3694 Validation Accuracy: 0.6668\n",
      "Epoch 62, CIFAR-10 Batch 2:  Loss: 0.2588 Validation Accuracy: 0.6670\n",
      "Epoch 62, CIFAR-10 Batch 3:  Loss: 0.2323 Validation Accuracy: 0.6648\n",
      "Epoch 62, CIFAR-10 Batch 4:  Loss: 0.2284 Validation Accuracy: 0.6640\n",
      "Epoch 62, CIFAR-10 Batch 5:  Loss: 0.2383 Validation Accuracy: 0.6690\n",
      "Epoch 63, CIFAR-10 Batch 1:  Loss: 0.3465 Validation Accuracy: 0.6688\n",
      "Epoch 63, CIFAR-10 Batch 2:  Loss: 0.2522 Validation Accuracy: 0.6672\n",
      "Epoch 63, CIFAR-10 Batch 3:  Loss: 0.2273 Validation Accuracy: 0.6628\n",
      "Epoch 63, CIFAR-10 Batch 4:  Loss: 0.2155 Validation Accuracy: 0.6732\n",
      "Epoch 63, CIFAR-10 Batch 5:  Loss: 0.2384 Validation Accuracy: 0.6706\n",
      "Epoch 64, CIFAR-10 Batch 1:  Loss: 0.3258 Validation Accuracy: 0.6730\n",
      "Epoch 64, CIFAR-10 Batch 2:  Loss: 0.2494 Validation Accuracy: 0.6752\n",
      "Epoch 64, CIFAR-10 Batch 3:  Loss: 0.2252 Validation Accuracy: 0.6714\n",
      "Epoch 64, CIFAR-10 Batch 4:  Loss: 0.2066 Validation Accuracy: 0.6704\n",
      "Epoch 64, CIFAR-10 Batch 5:  Loss: 0.2382 Validation Accuracy: 0.6664\n"
     ]
    }
   ],
   "source": [
    "\"\"\"\n",
    "DON'T MODIFY ANYTHING IN THIS CELL\n",
    "\"\"\"\n",
    "save_model_path = './image_classification'\n",
    "\n",
    "print('Training...')\n",
    "with tf.Session() as sess:\n",
    "    # Initializing the variables\n",
    "    sess.run(tf.global_variables_initializer())\n",
    "    \n",
    "    # Training cycle\n",
    "    for epoch in range(epochs):\n",
    "        # Loop over all batches\n",
    "        n_batches = 5\n",
    "        for batch_i in range(1, n_batches + 1):\n",
    "            for batch_features, batch_labels in helper.load_preprocess_training_batch(batch_i, batch_size):\n",
    "                train_neural_network(sess, optimizer, keep_probability, batch_features, batch_labels)\n",
    "            print('Epoch {:>2}, CIFAR-10 Batch {}:  '.format(epoch + 1, batch_i), end='')\n",
    "            print_stats(sess, batch_features, batch_labels, cost, accuracy)\n",
    "            \n",
    "    # Save Model\n",
    "    saver = tf.train.Saver()\n",
    "    save_path = saver.save(sess, save_model_path)"
   ]
  },
  {
   "cell_type": "markdown",
   "metadata": {},
   "source": [
    "# Checkpoint\n",
    "The model has been saved to disk.\n",
    "## Test Model\n",
    "Test your model against the test dataset.  This will be your final accuracy. You should have an accuracy greater than 50%. If you don't, keep tweaking the model architecture and parameters."
   ]
  },
  {
   "cell_type": "code",
   "execution_count": 118,
   "metadata": {},
   "outputs": [
    {
     "name": "stdout",
     "output_type": "stream",
     "text": [
      "INFO:tensorflow:Restoring parameters from ./image_classification\n",
      "Testing Accuracy: 0.6615234375\n",
      "\n"
     ]
    },
    {
     "data": {
      "image/png": "[encoded data removed]",
      "text/plain": [
       "<matplotlib.figure.Figure at 0x7fcfc844ab00>"
      ]
     },
     "metadata": {
      "image/png": {
       "height": 319,
       "width": 355
      }
     },
     "output_type": "display_data"
    }
   ],
   "source": [
    "\"\"\"\n",
    "DON'T MODIFY ANYTHING IN THIS CELL\n",
    "\"\"\"\n",
    "%matplotlib inline\n",
    "%config InlineBackend.figure_format = 'retina'\n",
    "\n",
    "import tensorflow as tf\n",
    "import pickle\n",
    "import helper\n",
    "import random\n",
    "\n",
    "# Set batch size if not already set\n",
    "try:\n",
    "    if batch_size:\n",
    "        pass\n",
    "except NameError:\n",
    "    batch_size = 64\n",
    "\n",
    "save_model_path = './image_classification'\n",
    "n_samples = 4\n",
    "top_n_predictions = 3\n",
    "\n",
    "def test_model():\n",
    "    \"\"\"\n",
    "    Test the saved model against the test dataset\n",
    "    \"\"\"\n",
    "\n",
    "    test_features, test_labels = pickle.load(open('preprocess_test.p', mode='rb'))\n",
    "    loaded_graph = tf.Graph()\n",
    "\n",
    "    with tf.Session(graph=loaded_graph) as sess:\n",
    "        # Load model\n",
    "        loader = tf.train.import_meta_graph(save_model_path + '.meta')\n",
    "        loader.restore(sess, save_model_path)\n",
    "\n",
    "        # Get Tensors from loaded model\n",
    "        loaded_x = loaded_graph.get_tensor_by_name('x:0')\n",
    "        loaded_y = loaded_graph.get_tensor_by_name('y:0')\n",
    "        loaded_keep_prob = loaded_graph.get_tensor_by_name('keep_prob:0')\n",
    "        loaded_logits = loaded_graph.get_tensor_by_name('logits:0')\n",
    "        loaded_acc = loaded_graph.get_tensor_by_name('accuracy:0')\n",
    "        \n",
    "        # Get accuracy in batches for memory limitations\n",
    "        test_batch_acc_total = 0\n",
    "        test_batch_count = 0\n",
    "        \n",
    "        for test_feature_batch, test_label_batch in helper.batch_features_labels(test_features, test_labels, batch_size):\n",
    "            test_batch_acc_total += sess.run(\n",
    "                loaded_acc,\n",
    "                feed_dict={loaded_x: test_feature_batch, loaded_y: test_label_batch, loaded_keep_prob: 1.0})\n",
    "            test_batch_count += 1\n",
    "\n",
    "        print('Testing Accuracy: {}\\n'.format(test_batch_acc_total/test_batch_count))\n",
    "\n",
    "        # Print Random Samples\n",
    "        random_test_features, random_test_labels = tuple(zip(*random.sample(list(zip(test_features, test_labels)), n_samples)))\n",
    "        random_test_predictions = sess.run(\n",
    "            tf.nn.top_k(tf.nn.softmax(loaded_logits), top_n_predictions),\n",
    "            feed_dict={loaded_x: random_test_features, loaded_y: random_test_labels, loaded_keep_prob: 1.0})\n",
    "        helper.display_image_predictions(random_test_features, random_test_labels, random_test_predictions)\n",
    "\n",
    "\n",
    "test_model()"
   ]
  },
  {
   "cell_type": "markdown",
   "metadata": {},
   "source": [
    "## Why 50-80% Accuracy?\n",
    "You might be wondering why you can't get an accuracy any higher. First things first, 50% isn't bad for a simple CNN.  Pure guessing would get you 10% accuracy. However, you might notice people are getting scores [well above 80%](http://rodrigob.github.io/are_we_there_yet/build/classification_datasets_results.html#43494641522d3130).  That's because we haven't taught you all there is to know about neural networks. We still need to cover a few more techniques.\n",
    "## Submitting This Project\n",
    "When submitting this project, make sure to run all the cells before saving the notebook.  Save the notebook file as \"dlnd_image_classification.ipynb\" and save it as a HTML file under \"File\" -> \"Download as\".  Include the \"helper.py\" and \"problem_unittests.py\" files in your submission."
   ]
  },
  {
   "cell_type": "code",
   "execution_count": null,
   "metadata": {
    "collapsed": true
   },
   "outputs": [],
   "source": []
  }
 ],
 "metadata": {
  "kernelspec": {
   "display_name": "Python 3",
   "language": "python",
   "name": "python3"
  },
  "language_info": {
   "codemirror_mode": {
    "name": "ipython",
    "version": 3
   },
   "file_extension": ".py",
   "mimetype": "text/x-python",
   "name": "python",
   "nbconvert_exporter": "python",
   "pygments_lexer": "ipython3",
   "version": "3.6.0"
  }
 },
 "nbformat": 4,
 "nbformat_minor": 1
}
